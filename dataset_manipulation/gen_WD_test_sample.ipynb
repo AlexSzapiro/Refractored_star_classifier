{
 "cells": [
  {
   "cell_type": "code",
   "execution_count": 2,
   "metadata": {},
   "outputs": [],
   "source": [
    "# Generates 10 samples of test stars from a large test dataset\n",
    "# Used for verifying WaveDiff metrics consistency when using different test datasets \n",
    "import numpy as np"
   ]
  },
  {
   "cell_type": "code",
   "execution_count": 3,
   "metadata": {},
   "outputs": [],
   "source": [
    "# Load dataset\n",
    "data_folder = '/Users/as274094/Documents/psf_dataset1/'\n",
    "dataset1 = np.load(data_folder + 'test_Euclid_res_20000_TestStars_id_001GT_100_bins.npy', allow_pickle=True)[()]"
   ]
  },
  {
   "cell_type": "code",
   "execution_count": 4,
   "metadata": {},
   "outputs": [],
   "source": [
    "for i in range(10):\n",
    "    test_sample = {\n",
    "        'stars': dataset1['stars'][i*400:(i+1)*400],\n",
    "        'noisy_stars': dataset1['noisy_stars'][i*400:(i+1)*400],\n",
    "        'super_res_stars': dataset1['super_res_stars'][i*400:(i+1)*400],\n",
    "        'positions': dataset1['positions'][i*400:(i+1)*400],\n",
    "        'SEDs': dataset1['SEDs'][i*400:(i+1)*400],\n",
    "        'zernike_coef': dataset1['zernike_coef'][i*400:(i+1)*400],\n",
    "        'C_poly': dataset1['C_poly'],\n",
    "        'parameters': dataset1['parameters'],\n",
    "        'SED_ids': dataset1['SED_ids'][i*400:(i+1)*400],\n",
    "        'SNR': dataset1['SNR'][i*400:(i+1)*400]\n",
    "    }\n",
    "    np.save(\n",
    "            data_folder + 'test_sample_'+ str(i+1)+'_id_001.npy',\n",
    "            test_sample,\n",
    "            allow_pickle=True\n",
    "        )"
   ]
  }
 ],
 "metadata": {
  "kernelspec": {
   "display_name": "psf",
   "language": "python",
   "name": "python3"
  },
  "language_info": {
   "codemirror_mode": {
    "name": "ipython",
    "version": 3
   },
   "file_extension": ".py",
   "mimetype": "text/x-python",
   "name": "python",
   "nbconvert_exporter": "python",
   "pygments_lexer": "ipython3",
   "version": "3.11.3"
  },
  "orig_nbformat": 4
 },
 "nbformat": 4,
 "nbformat_minor": 2
}
