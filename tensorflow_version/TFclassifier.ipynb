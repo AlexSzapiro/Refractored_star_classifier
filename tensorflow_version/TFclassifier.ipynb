{
 "cells": [
  {
   "cell_type": "code",
   "execution_count": 1,
   "metadata": {},
   "outputs": [
    {
     "name": "stderr",
     "output_type": "stream",
     "text": [
      "2023-05-22 18:08:51.822390: I tensorflow/core/platform/cpu_feature_guard.cc:182] This TensorFlow binary is optimized to use available CPU instructions in performance-critical operations.\n",
      "To enable the following instructions: AVX2 FMA, in other operations, rebuild TensorFlow with the appropriate compiler flags.\n"
     ]
    }
   ],
   "source": [
    "import numpy as np\n",
    "import tensorflow as tf\n",
    "from tensorflow.keras import layers\n",
    "from sklearn.decomposition import PCA\n",
    "from sklearn.model_selection import train_test_split"
   ]
  },
  {
   "cell_type": "code",
   "execution_count": 2,
   "metadata": {},
   "outputs": [],
   "source": [
    "# Load the datasets\n",
    "output_folder = '/Users/as274094/GitHub/psf_dataset_generation/output/'\n",
    "test_dataset = np.load(output_folder + 'test_Euclid_res_10_TestStars_id_001GT_100_bins.npy', allow_pickle=True)[()]\n",
    "train_dataset = np.load(output_folder + '/train_Euclid_res_50_TrainStars_id_001GT_100_bins.npy', allow_pickle=True)[()]\n",
    "train_stars = train_dataset['stars']\n",
    "test_stars = test_dataset['stars']"
   ]
  },
  {
   "cell_type": "code",
   "execution_count": 30,
   "metadata": {},
   "outputs": [],
   "source": [
    "# Hyperparameters\n",
    "PCA_components = 24\n",
    "model_learning_rate = 0.1\n",
    "N_epochs = 50"
   ]
  },
  {
   "cell_type": "code",
   "execution_count": 26,
   "metadata": {},
   "outputs": [],
   "source": [
    "def SEDlisttoC(SED_list):\n",
    "    sed_array = np.array(SED_list)\n",
    "    return sed_array*0.5 + 1.5\n",
    "\n",
    "def CtoSEDarray(c_values, variance):\n",
    "    sed_classes = ((c_values - 1.25) // 0.5).astype(int)\n",
    "    sed_classes = np.where((c_values < 1.25) | (c_values > 7.75), 20, sed_classes)\n",
    "    sed_classes = np.where((variance > 1.00), 20, sed_classes)\n",
    "    return sed_classes\n",
    "\n",
    "train_C = SEDlisttoC(train_dataset['SED_ids'])\n",
    "test_C = SEDlisttoC(test_dataset['SED_ids'])"
   ]
  },
  {
   "cell_type": "code",
   "execution_count": null,
   "metadata": {},
   "outputs": [],
   "source": [
    "example_SED_original = np.random.randint(low = 0, high = 13, size = 50)\n",
    "example_C = SEDlisttoC(example_SED_original)\n",
    "example_C_noisy = example_C + np.random.rand(example_C.shape[0])*0.8-0.40\n",
    "example_SED_obtained = CtoSEDarray(example_C_noisy)\n",
    "for i in range(example_SED_original.shape[0]):\n",
    "    print(example_SED_original[i], example_C_noisy[i], example_SED_obtained[i])\n"
   ]
  },
  {
   "cell_type": "code",
   "execution_count": 27,
   "metadata": {},
   "outputs": [],
   "source": [
    "# Perform PCA on the images\n",
    "pca = PCA(n_components= PCA_components)\n",
    "x_train= pca.fit_transform(train_stars.reshape(-1, 1024))\n",
    "y_train = train_C\n",
    "\n",
    "\"\"\"\n",
    "x_train, x_test, y_train, y_val = train_test_split( x_train, y_train, test_size = 20000)\n",
    "# Reserve 20,000 stars for validation\n",
    "x_val = x_train[-20000:]\n",
    "y_val = y_train[-20000:]\n",
    "x_train = x_train[:-20000]\n",
    "y_train = y_train[:-20000]\n",
    "\"\"\""
   ]
  },
  {
   "cell_type": "code",
   "execution_count": null,
   "metadata": {},
   "outputs": [],
   "source": [
    "# Define the model architecture\n",
    "def create_model():\n",
    "    initializer = tf.keras.initializers.GlorotNormal(seed = 1)\n",
    "    model = tf.keras.Sequential([\n",
    "        layers.Dense(26, input_shape=[PCA_components], activation='sigmoid', kernel_initializer= initializer),\n",
    "        layers.Dense(26, activation='sigmoid', kernel_initializer= initializer),\n",
    "        layers.Dense(1, activation = 'linear', kernel_initializer= initializer)\n",
    "    ])\n",
    "    model.compile(\n",
    "        loss = tf.keras.losses.MeanSquaredError(),\n",
    "        optimizer = tf.keras.optimizers.Adam(learning_rate = model_learning_rate)\n",
    "    )\n",
    "    return model\n",
    "\n",
    "# Train a committee of 48 neural networks\n",
    "committee = []\n",
    "for i in range(48):\n",
    "    model = create_model()\n",
    "    #indices = np.random.choice(len(train_C), size=500, replace=False)\n",
    "    #x_train = images_pca[indices]\n",
    "    #y_train = train_C[indices]\n",
    "    \n",
    "    model.fit(x_train, y_train, epochs= N_epochs, verbose=0)\n",
    "    committee.append(model)\n",
    "\n",
    "# Predict the scalar parameter C using the committee\n",
    "x_test_pca = pca.transform(test_stars.reshape(-1, 1024))\n",
    "committee_predictions = []\n",
    "a = True\n",
    "for model in committee:\n",
    "    committee_predictions.append(model.predict(x_test_pca).reshape(-1))\n",
    "\n",
    "committee_predictions = np.array(committee_predictions)\n",
    "y_pred = np.mean(committee_predictions, axis=0)\n",
    "pred_variance = np.var(committee_predictions, axis=0)\n",
    "SED_pred = CtoSEDarray(y_pred,pred_variance)\n",
    "#add metrics\n"
   ]
  },
  {
   "cell_type": "code",
   "execution_count": null,
   "metadata": {},
   "outputs": [],
   "source": [
    "# Evaluate the performance of the committee\n",
    "\n",
    "mse = np.mean((test_C - y_pred)**2)\n",
    "print('MSE:', mse)\n",
    "print(pred_variance)\n",
    "\n",
    "\n",
    "for i in range(len(y_pred)):\n",
    "    print(test_dataset['SED_ids'][i], y_pred[i], SED_pred[i])\n"
   ]
  }
 ],
 "metadata": {
  "kernelspec": {
   "display_name": "psf",
   "language": "python",
   "name": "python3"
  },
  "language_info": {
   "codemirror_mode": {
    "name": "ipython",
    "version": 3
   },
   "file_extension": ".py",
   "mimetype": "text/x-python",
   "name": "python",
   "nbconvert_exporter": "python",
   "pygments_lexer": "ipython3",
   "version": "3.11.3"
  },
  "orig_nbformat": 4
 },
 "nbformat": 4,
 "nbformat_minor": 2
}
