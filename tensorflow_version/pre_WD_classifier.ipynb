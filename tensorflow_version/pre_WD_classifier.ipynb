{
 "cells": [
  {
   "cell_type": "code",
   "execution_count": null,
   "metadata": {},
   "outputs": [],
   "source": [
    "# Script that receives an unclassified PSF dataset and returns the dataset with the according SEDs\n",
    "\n",
    "import numpy as np\n",
    "import tensorflow as tf\n",
    "from sklearn.decomposition import PCA"
   ]
  },
  {
   "cell_type": "code",
   "execution_count": null,
   "metadata": {},
   "outputs": [],
   "source": [
    "#PCA decomposition\n",
    "dataset_path = '/Users/as274094/Documents/psf_dataset2/'\n",
    "test_dataset_name = 'no_SED_test_Euclid_res_20000_TestStars_id_002GT_100_bins.npy'\n",
    "test_dataset = np.load(dataset_path + test_dataset_name, allow_pickle=True)[()]\n",
    "train_dataset = np.load(dataset_path + 'train_Euclid_res_52000_TrainStars_id_002GT_100_bins.npy', allow_pickle=True)[()]\n",
    "\n",
    "# Load the stars\n",
    "noisy_train_stars = train_dataset['noisy_stars']\n",
    "noisy_test_stars = test_dataset['noisy_stars']\n",
    "\n",
    "#should I include the validation stars as well?\n",
    "\n",
    "fit_selection = np.concatenate((noisy_train_stars, noisy_test_stars), axis = 0)\n",
    "N_components = 30\n",
    "\n",
    "pca = PCA(n_components= N_components)\n",
    "pca.fit(fit_selection.reshape(-1, 1024))\n",
    "x_test = pca.transform(noisy_test_stars.reshape(-1, 1024))"
   ]
  },
  {
   "cell_type": "code",
   "execution_count": null,
   "metadata": {},
   "outputs": [],
   "source": [
    "# Load model and make predictions\n",
    "\n",
    "model_path = '/Users/as274094/GitHub/Refractored_star_classifier/tensorflow_version/best_models/config1_PCA_dataset2B30/'\n",
    "classifier = tf.keras.models.load_model(model_path)\n",
    "\n",
    "def CtoSEDarray(c_values, variance):\n",
    "    sed_classes = ((c_values - 1.25) // 0.5).astype(int)\n",
    "    sed_classes = np.where((c_values < 1.25) | (c_values > 7.75), 20, sed_classes)\n",
    "    sed_classes = np.where((variance > 1.00), 20, sed_classes)\n",
    "    return sed_classes\n",
    "\n",
    "C_pred = classifier.predict(x_test, verbose = 1).reshape(-1) # Predict the scalar parameter C\n",
    "class_pred = CtoSEDarray(C_pred,np.zeros_like(C_pred))\n",
    "\n"
   ]
  },
  {
   "cell_type": "code",
   "execution_count": null,
   "metadata": {},
   "outputs": [],
   "source": [
    "# Assign SEDs\n",
    "concatenated_SEDs = np.load('concatenated_SEDs.npy', allow_pickle=True)[()]\n",
    "\n",
    "SED_list = []\n",
    "for spectral_class in class_pred:\n",
    "    if spectral_class == 20:\n",
    "        concat_SED = None # what sould I do about the anomalies?\n",
    "    else:\n",
    "        concat_SED = concatenated_SEDs[spectral_class]\n",
    "    SED_list.append(concat_SED)\n",
    "SED_array = np.array(SED_list, dtype=object)"
   ]
  },
  {
   "cell_type": "code",
   "execution_count": 42,
   "metadata": {},
   "outputs": [],
   "source": [
    "test_dataset['SEDs'] = SED_array \n",
    "test_dataset['SED_ids'] = class_pred\n",
    "\n",
    "output_dataset_name = test_dataset_name.replace('no_SED', 'classified')\n",
    "np.save(\n",
    "        dataset_path + output_dataset_name,\n",
    "        test_dataset,\n",
    "        allow_pickle=True\n",
    "    )"
   ]
  }
 ],
 "metadata": {
  "kernelspec": {
   "display_name": "psf",
   "language": "python",
   "name": "python3"
  },
  "language_info": {
   "codemirror_mode": {
    "name": "ipython",
    "version": 3
   },
   "file_extension": ".py",
   "mimetype": "text/x-python",
   "name": "python",
   "nbconvert_exporter": "python",
   "pygments_lexer": "ipython3",
   "version": "3.11.3"
  },
  "orig_nbformat": 4
 },
 "nbformat": 4,
 "nbformat_minor": 2
}
