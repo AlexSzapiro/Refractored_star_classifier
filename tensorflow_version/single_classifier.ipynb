{
 "cells": [
  {
   "cell_type": "code",
   "execution_count": 1,
   "metadata": {},
   "outputs": [
    {
     "name": "stderr",
     "output_type": "stream",
     "text": [
      "2023-05-30 15:39:35.452994: I tensorflow/core/platform/cpu_feature_guard.cc:182] This TensorFlow binary is optimized to use available CPU instructions in performance-critical operations.\n",
      "To enable the following instructions: AVX2 FMA, in other operations, rebuild TensorFlow with the appropriate compiler flags.\n"
     ]
    }
   ],
   "source": [
    "import numpy as np\n",
    "import tensorflow as tf\n",
    "from tensorflow.keras import layers\n",
    "from sklearn.metrics import f1_score"
   ]
  },
  {
   "cell_type": "code",
   "execution_count": 2,
   "metadata": {},
   "outputs": [],
   "source": [
    "# Load the dataset\n",
    "data_path = '/Users/as274094/GitHub/Refractored_star_classifier/tensorflow_version/'\n",
    "dataset = np.load(data_path + 'PCA_dataset1.npy', allow_pickle=True)[()]\n",
    "\n",
    "x_train = dataset['train_stars_pca']\n",
    "x_val = dataset['validation_stars_pca']\n",
    "x_test = dataset['test_stars_pca']\n",
    "y_train = dataset['train_C']\n",
    "y_val = dataset['validation_C']\n",
    "y_test = dataset['test_C']\n",
    "SED_test = dataset['test_SEDs']\n"
   ]
  },
  {
   "cell_type": "code",
   "execution_count": 3,
   "metadata": {},
   "outputs": [],
   "source": [
    "# Hyperparameters\n",
    "PCA_components = 24\n",
    "model_learning_rate = 0.1\n",
    "N_epochs = 50\n",
    "N_committee = 48"
   ]
  },
  {
   "cell_type": "code",
   "execution_count": 4,
   "metadata": {},
   "outputs": [],
   "source": [
    "def SEDlisttoC(SED_list):\n",
    "    sed_array = np.array(SED_list)\n",
    "    return sed_array*0.5 + 1.5\n",
    "\n",
    "def CtoSEDarray(c_values, variance):\n",
    "    sed_classes = ((c_values - 1.25) // 0.5).astype(int)\n",
    "    sed_classes = np.where((c_values < 1.25) | (c_values > 7.75), 20, sed_classes)\n",
    "    sed_classes = np.where((variance > 1.00), 20, sed_classes)\n",
    "    return sed_classes\n",
    "\n",
    "def calculate_success_rate(confusion_matrix):\n",
    "    diagonal = np.trace(confusion_matrix)\n",
    "    diagonal_neighbors = np.sum(np.diagonal(confusion_matrix, offset=1)) + np.sum(np.diagonal(confusion_matrix, offset=-1))\n",
    "    total_classified = np.sum(confusion_matrix)\n",
    "    \n",
    "    success_rate = (diagonal + diagonal_neighbors) / total_classified\n",
    "    return success_rate"
   ]
  },
  {
   "cell_type": "code",
   "execution_count": 12,
   "metadata": {},
   "outputs": [
    {
     "name": "stdout",
     "output_type": "stream",
     "text": [
      "1/1 [==============================] - 0s 67ms/step\n"
     ]
    }
   ],
   "source": [
    "# Define the model architecture\n",
    "\n",
    "initializer = tf.keras.initializers.GlorotNormal(seed = 1)\n",
    "model = tf.keras.Sequential([\n",
    "    layers.Dense(26, input_shape=[PCA_components], activation='sigmoid', kernel_initializer= initializer),\n",
    "    layers.Dense(26, activation='sigmoid', kernel_initializer= initializer),\n",
    "    layers.Dense(1, activation = 'linear', kernel_initializer= initializer)\n",
    "])\n",
    "model.compile(\n",
    "    loss = tf.keras.losses.MeanSquaredError(),\n",
    "    optimizer = tf.keras.optimizers.Adam(learning_rate = model_learning_rate)\n",
    ")\n",
    "\n",
    "# Train the model and make predictions\n",
    "model.fit(x_train, y_train, epochs= N_epochs, verbose=0, validation_data=(x_val,y_val))\n",
    "C_pred = model.predict(x_test, verbose = 1).reshape(-1) # Predict the scalar parameter C using the committee    \n",
    "\n",
    "y_pred = np.mean(C_pred)\n",
    "SED_pred = CtoSEDarray(C_pred,np.zeros_like(C_pred))\n"
   ]
  },
  {
   "cell_type": "code",
   "execution_count": 13,
   "metadata": {},
   "outputs": [
    {
     "name": "stdout",
     "output_type": "stream",
     "text": [
      "[4.60003   4.6000295 4.6000304 4.6000295 4.6000295 4.6000295 4.6000295\n",
      " 4.6000304 4.6000295 4.600029 ]\n",
      "4.60003\n",
      "2.7284842e-13\n",
      "[6 6 6 6 6 6 6 6 6 6]\n"
     ]
    }
   ],
   "source": [
    "print(C_pred)\n",
    "print(y_pred)\n",
    "print(pred_variance)\n",
    "print(SED_pred)"
   ]
  },
  {
   "cell_type": "code",
   "execution_count": 17,
   "metadata": {},
   "outputs": [
    {
     "name": "stdout",
     "output_type": "stream",
     "text": [
      "MSE: 2.5850209626582\n",
      "Variance:  2.7284842e-13\n",
      "\n",
      "F1 score: [0.         0.         0.         0.18181818 0.         0.\n",
      " 0.         0.        ]\n",
      "0.022727272727272728\n",
      "0 4.60003 6\n",
      "11 4.6000295 6\n",
      "4 4.6000304 6\n",
      "7 4.6000295 6\n",
      "6 4.6000295 6\n",
      "3 4.6000295 6\n",
      "3 4.6000295 6\n",
      "4 4.6000304 6\n",
      "9 4.6000295 6\n",
      "8 4.600029 6\n",
      "\n",
      "Confusion matrix:\n",
      "tf.Tensor(\n",
      "[[0 0 0 0 0 0 1 0 0 0 0 0]\n",
      " [0 0 0 0 0 0 0 0 0 0 0 0]\n",
      " [0 0 0 0 0 0 0 0 0 0 0 0]\n",
      " [0 0 0 0 0 0 2 0 0 0 0 0]\n",
      " [0 0 0 0 0 0 2 0 0 0 0 0]\n",
      " [0 0 0 0 0 0 0 0 0 0 0 0]\n",
      " [0 0 0 0 0 0 1 0 0 0 0 0]\n",
      " [0 0 0 0 0 0 1 0 0 0 0 0]\n",
      " [0 0 0 0 0 0 1 0 0 0 0 0]\n",
      " [0 0 0 0 0 0 1 0 0 0 0 0]\n",
      " [0 0 0 0 0 0 0 0 0 0 0 0]\n",
      " [0 0 0 0 0 0 1 0 0 0 0 0]], shape=(12, 12), dtype=int32)\n",
      "\n",
      "Success rate: 0.2\n"
     ]
    }
   ],
   "source": [
    "# Evaluate the performance of the committee\n",
    "\n",
    "mse = np.mean((y_test - y_pred)**2)\n",
    "print('MSE:', mse)\n",
    "print(\"Variance: \", pred_variance)\n",
    "\n",
    "f1 = f1_score(SED_test, SED_pred, average = None)\n",
    "print('\\nF1 score:', f1)\n",
    "print(np.mean(f1[:13]))\n",
    "\n",
    "for i in range(len(SED_test)):\n",
    "    print(SED_test[i], C_pred[i], SED_pred[i])\n",
    "\n",
    "\n",
    "confusion_matrix = tf.math.confusion_matrix(SED_test, SED_pred) \n",
    "print(\"\\nConfusion matrix:\")\n",
    "print(confusion_matrix)\n",
    "\n",
    "success_rate = calculate_success_rate(confusion_matrix)\n",
    "print('\\nSuccess rate:', success_rate)\n",
    "\n"
   ]
  }
 ],
 "metadata": {
  "kernelspec": {
   "display_name": "psf",
   "language": "python",
   "name": "python3"
  },
  "language_info": {
   "codemirror_mode": {
    "name": "ipython",
    "version": 3
   },
   "file_extension": ".py",
   "mimetype": "text/x-python",
   "name": "python",
   "nbconvert_exporter": "python",
   "pygments_lexer": "ipython3",
   "version": "3.11.3"
  },
  "orig_nbformat": 4
 },
 "nbformat": 4,
 "nbformat_minor": 2
}
