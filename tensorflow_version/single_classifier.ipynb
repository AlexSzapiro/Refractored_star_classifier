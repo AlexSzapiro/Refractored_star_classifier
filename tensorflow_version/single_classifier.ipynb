{
 "cells": [
  {
   "cell_type": "code",
   "execution_count": null,
   "metadata": {},
   "outputs": [],
   "source": [
    "import numpy as np\n",
    "import tensorflow as tf\n",
    "import time\n",
    "from tensorflow.keras import layers\n",
    "import sklearn.metrics as skm\n",
    "import os"
   ]
  },
  {
   "cell_type": "code",
   "execution_count": null,
   "metadata": {},
   "outputs": [],
   "source": [
    "# Load the dataset\n",
    "#data_path = '/Users/as274094/Documents/psf_dataset1/'\n",
    "# data_path = '/gpfswork/rech/prk/uzk69cg/psf_dataset1/'\n",
    "data_path = '/Users/as274094/GitHub/Refractored_star_classifier/tensorflow_version/'\n",
    "dataset = np.load(data_path + 'PCA_dataset1.npy', allow_pickle=True)[()]\n",
    "\n",
    "x_train = dataset['train_stars_pca']\n",
    "x_val = dataset['validation_stars_pca']\n",
    "x_test = dataset['test_stars_pca']\n",
    "y_train = dataset['train_C']\n",
    "y_val = dataset['validation_C']\n",
    "y_test = dataset['test_C']\n",
    "SED_test = dataset['test_SEDs']\n"
   ]
  },
  {
   "cell_type": "code",
   "execution_count": null,
   "metadata": {},
   "outputs": [],
   "source": [
    "# Hyperparameters\n",
    "PCA_components = 24\n",
    "model_learning_rate = 0.1\n",
    "N_epochs = 10\n",
    "N_committee = 48\n",
    "patience_epochs = 3"
   ]
  },
  {
   "cell_type": "code",
   "execution_count": null,
   "metadata": {},
   "outputs": [],
   "source": [
    "def SEDlisttoC(SED_list):\n",
    "    sed_array = np.array(SED_list)\n",
    "    return sed_array*0.5 + 1.5\n",
    "\n",
    "def CtoSEDarray(c_values, variance):\n",
    "    sed_classes = ((c_values - 1.25) // 0.5).astype(int)\n",
    "    sed_classes = np.where((c_values < 1.25) | (c_values > 7.75), 20, sed_classes)\n",
    "    sed_classes = np.where((variance > 1.00), 20, sed_classes)\n",
    "    return sed_classes\n",
    "\n",
    "def calculate_success_rate(confusion_matrix):\n",
    "    diagonal = np.trace(confusion_matrix)\n",
    "    diagonal_neighbors = np.sum(np.diagonal(confusion_matrix, offset=1)) + np.sum(np.diagonal(confusion_matrix, offset=-1))\n",
    "    total_classified = np.sum(confusion_matrix)\n",
    "    \n",
    "    success_rate = (diagonal + diagonal_neighbors) / total_classified\n",
    "    return success_rate"
   ]
  },
  {
   "cell_type": "code",
   "execution_count": null,
   "metadata": {},
   "outputs": [],
   "source": [
    "# Define the model architecture\n",
    "\n",
    "initializer = tf.keras.initializers.GlorotNormal(seed = 1)\n",
    "model = tf.keras.Sequential([\n",
    "    layers.Dense(26, input_shape=[PCA_components], activation='sigmoid', kernel_initializer= initializer),\n",
    "    layers.Dense(26, activation='sigmoid', kernel_initializer= initializer),\n",
    "    layers.Dense(1, activation = 'linear', kernel_initializer= initializer)\n",
    "])\n",
    "model.compile(\n",
    "    loss = tf.keras.losses.MeanSquaredError(),\n",
    "    optimizer = tf.keras.optimizers.Adam(learning_rate = model_learning_rate)\n",
    ")\n",
    "\n",
    "# Custom callback\n",
    "class TrainingCompletionCallback(tf.keras.callbacks.Callback):\n",
    "    def on_train_end(self, logs=None):\n",
    "        epochs = len(self.model.history.history['loss'])\n",
    "        final_loss = self.model.history.history['loss'][-1]\n",
    "        final_val_loss = self.model.history.history['val_loss'][-1]\n",
    "\n",
    "        print(\"Training completed. Number of epochs:\", epochs, \", Final training loss:\", final_loss, \", Final validation loss:\", final_val_loss)\n",
    "\n",
    "early_stopping = tf.keras.callbacks.EarlyStopping(monitor = \"val_loss\", patience = patience_epochs, restore_best_weights=True)\n",
    "completion_callback = TrainingCompletionCallback()\n",
    "\n",
    "start_time = time.time() # Measure training time\n",
    "learning = model.fit(x_train, y_train, epochs= N_epochs, verbose = 0, callbacks = [completion_callback,early_stopping], validation_data=(x_val,y_val)) # Train the model\n",
    "\n",
    "# Calculate the training time\n",
    "end_time = time.time()\n",
    "training_time = end_time - start_time\n",
    "print(\"Total training time:\", training_time, \"seconds\")\n"
   ]
  },
  {
   "cell_type": "code",
   "execution_count": null,
   "metadata": {},
   "outputs": [],
   "source": [
    "# Load a trained model\n",
    "\n",
    "model_path = '/Users/as274094/GitHub/Refractored_star_classifier/tensorflow_version/single_model/my_model.h5'\n",
    "model = tf.keras.models.load_model(model_path)"
   ]
  },
  {
   "cell_type": "code",
   "execution_count": null,
   "metadata": {},
   "outputs": [],
   "source": [
    "# Make predictions\n",
    "\n",
    "C_pred = model.predict(x_test, verbose = 1).reshape(-1) # Predict the scalar parameter C\n",
    "SED_pred = CtoSEDarray(C_pred,np.zeros_like(C_pred))"
   ]
  },
  {
   "cell_type": "code",
   "execution_count": null,
   "metadata": {},
   "outputs": [],
   "source": [
    "# Evaluate the performance of the classifier\n",
    "\n",
    "mse = np.mean((y_test - C_pred)**2)\n",
    "print('MSE:', mse)\n",
    "\n",
    "f1 = skm.f1_score(SED_test, SED_pred, average = None)\n",
    "f1_mean = np.mean(f1[:13])\n",
    "print('\\nF1 score for each class:', f1)\n",
    "print('Average F1 score:', f1_mean)\n",
    "\n",
    "#confusion_matrix = tf.math.confusion_matrix(SED_test, SED_pred) \n",
    "confusion_matrix = skm.confusion_matrix(SED_test, SED_pred)\n",
    "print(\"\\nConfusion matrix:\")\n",
    "print(confusion_matrix)\n",
    "\n",
    "success_rate = calculate_success_rate(confusion_matrix)\n",
    "print('\\nSuccess rate:', success_rate)\n"
   ]
  },
  {
   "cell_type": "code",
   "execution_count": null,
   "metadata": {},
   "outputs": [],
   "source": [
    "#Save the committee models\n",
    "\n",
    "os.makedirs(\"single_model\", exist_ok=True)\n",
    "model.save(f\"single_model/my_model.h5\")"
   ]
  },
  {
   "attachments": {},
   "cell_type": "markdown",
   "metadata": {},
   "source": [
    "# Plotting"
   ]
  },
  {
   "cell_type": "code",
   "execution_count": null,
   "metadata": {},
   "outputs": [],
   "source": [
    "import matplotlib.pyplot as plt\n",
    "import seaborn as sns"
   ]
  },
  {
   "cell_type": "code",
   "execution_count": 22,
   "metadata": {},
   "outputs": [
    {
     "data": {
      "text/plain": [
       "[Text(0.5, 23.52222222222222, 'Estimated spectral type'),\n",
       " Text(50.722222222222214, 0.5, 'True spectral type')]"
      ]
     },
     "execution_count": 22,
     "metadata": {},
     "output_type": "execute_result"
    },
    {
     "data": {
      "image/png": "[encoded data removed]",
      "text/plain": [
       "<Figure size 640x480 with 2 Axes>"
      ]
     },
     "metadata": {},
     "output_type": "display_data"
    }
   ],
   "source": [
    "# Plot the confusion matrix\n",
    "\n",
    "cf_plot = sns.heatmap(confusion_matrix, cmap='crest')\n",
    "cf_plot.set(xlabel=\"Estimated spectral type\", ylabel=\"True spectral type\")\n",
    "cf_plot.xaxis.tick_top()\n"
   ]
  },
  {
   "cell_type": "code",
   "execution_count": null,
   "metadata": {},
   "outputs": [],
   "source": [
    "# Plot the metrics\n",
    "\n",
    "plt.figure(figsize = (9,5))\n",
    "plt.bar(np.arange(13), height = f1, tick_label = np.arange(13) +1 ,label = \"F1 score\")\n",
    "plt.axhline(f1_mean, color='red', linestyle='--', label = 'F1 score average')\n",
    "plt.axhline(success_rate, color='purple', label = 'Success rate')\n",
    "plt.xlabel(\"Spectral class\")\n",
    "plt.ylabel(\"Metric\")\n",
    "plt.legend()"
   ]
  },
  {
   "cell_type": "code",
   "execution_count": null,
   "metadata": {},
   "outputs": [],
   "source": [
    "# PLot the loss function evolution\n",
    "\n",
    "loss_evolution = learning.history[\"loss\"]\n",
    "val_loss_evolution = learning.history[\"val_loss\"]\n",
    "\n",
    "plt.plot(loss_evolution,label = \"Train set\")\n",
    "plt.plot(val_loss_evolution,label = \"Validation set\")\n",
    "plt.xlabel(\"Epochs\")\n",
    "plt.ylabel(\"Loss function value\")\n",
    "plt.legend()\n",
    "plt.title(\"Loss function evolution\")\n"
   ]
  }
 ],
 "metadata": {
  "kernelspec": {
   "display_name": "psf",
   "language": "python",
   "name": "python3"
  },
  "language_info": {
   "codemirror_mode": {
    "name": "ipython",
    "version": 3
   },
   "file_extension": ".py",
   "mimetype": "text/x-python",
   "name": "python",
   "nbconvert_exporter": "python",
   "pygments_lexer": "ipython3",
   "version": "3.11.3"
  },
  "orig_nbformat": 4
 },
 "nbformat": 4,
 "nbformat_minor": 2
}
