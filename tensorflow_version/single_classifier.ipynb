{
 "cells": [
  {
   "cell_type": "code",
   "execution_count": 18,
   "metadata": {},
   "outputs": [],
   "source": [
    "import numpy as np\n",
    "import tensorflow as tf\n",
    "from tensorflow.keras import layers\n",
    "from sklearn.metrics import f1_score\n",
    "import time"
   ]
  },
  {
   "cell_type": "code",
   "execution_count": 7,
   "metadata": {},
   "outputs": [],
   "source": [
    "# Load the dataset\n",
    "data_path = '/Users/as274094/GitHub/Refractored_star_classifier/tensorflow_version/'\n",
    "dataset = np.load(data_path + 'PCA_dataset1.npy', allow_pickle=True)[()]\n",
    "\n",
    "x_train = dataset['train_stars_pca']\n",
    "x_val = dataset['validation_stars_pca']\n",
    "x_test = dataset['test_stars_pca']\n",
    "y_train = dataset['train_C']\n",
    "y_val = dataset['validation_C']\n",
    "y_test = dataset['test_C']\n",
    "SED_test = dataset['test_SEDs']\n"
   ]
  },
  {
   "cell_type": "code",
   "execution_count": 8,
   "metadata": {},
   "outputs": [],
   "source": [
    "# Hyperparameters\n",
    "PCA_components = 24\n",
    "model_learning_rate = 0.1\n",
    "N_epochs = 50\n",
    "N_committee = 48"
   ]
  },
  {
   "cell_type": "code",
   "execution_count": 9,
   "metadata": {},
   "outputs": [],
   "source": [
    "def SEDlisttoC(SED_list):\n",
    "    sed_array = np.array(SED_list)\n",
    "    return sed_array*0.5 + 1.5\n",
    "\n",
    "def CtoSEDarray(c_values, variance):\n",
    "    sed_classes = ((c_values - 1.25) // 0.5).astype(int)\n",
    "    sed_classes = np.where((c_values < 1.25) | (c_values > 7.75), 20, sed_classes)\n",
    "    sed_classes = np.where((variance > 1.00), 20, sed_classes)\n",
    "    return sed_classes\n",
    "\n",
    "def calculate_success_rate(confusion_matrix):\n",
    "    diagonal = np.trace(confusion_matrix)\n",
    "    diagonal_neighbors = np.sum(np.diagonal(confusion_matrix, offset=1)) + np.sum(np.diagonal(confusion_matrix, offset=-1))\n",
    "    total_classified = np.sum(confusion_matrix)\n",
    "    \n",
    "    success_rate = (diagonal + diagonal_neighbors) / total_classified\n",
    "    return success_rate"
   ]
  },
  {
   "cell_type": "code",
   "execution_count": 19,
   "metadata": {},
   "outputs": [
    {
     "name": "stdout",
     "output_type": "stream",
     "text": [
      "Epoch 1/50\n",
      "1/1 [==============================] - 1s 778ms/step - loss: 22.5677 - val_loss: 5.6559\n",
      "Epoch 2/50\n",
      "1/1 [==============================] - 0s 54ms/step - loss: 7.1273 - val_loss: 3.3965\n",
      "Epoch 3/50\n",
      "1/1 [==============================] - 0s 67ms/step - loss: 3.8660 - val_loss: 5.5817\n",
      "Epoch 4/50\n",
      "1/1 [==============================] - 0s 62ms/step - loss: 5.3838 - val_loss: 6.7829\n",
      "Epoch 5/50\n",
      "1/1 [==============================] - 0s 38ms/step - loss: 6.3890 - val_loss: 6.3534\n",
      "Epoch 6/50\n",
      "1/1 [==============================] - 0s 52ms/step - loss: 6.0248 - val_loss: 5.3447\n",
      "Epoch 7/50\n",
      "1/1 [==============================] - 0s 37ms/step - loss: 5.1910 - val_loss: 4.3454\n",
      "Epoch 8/50\n",
      "1/1 [==============================] - 0s 36ms/step - loss: 4.4167 - val_loss: 3.6345\n",
      "Epoch 9/50\n",
      "1/1 [==============================] - 0s 43ms/step - loss: 3.9526 - val_loss: 3.3298\n",
      "Epoch 10/50\n",
      "1/1 [==============================] - 0s 54ms/step - loss: 3.8868 - val_loss: 3.3657\n",
      "Epoch 11/50\n",
      "1/1 [==============================] - 0s 47ms/step - loss: 4.1238 - val_loss: 3.5461\n",
      "Epoch 12/50\n",
      "1/1 [==============================] - 0s 36ms/step - loss: 4.4427 - val_loss: 3.6720\n",
      "Epoch 13/50\n",
      "1/1 [==============================] - 0s 46ms/step - loss: 4.6325 - val_loss: 3.6513\n",
      "Epoch 14/50\n",
      "1/1 [==============================] - 0s 47ms/step - loss: 4.6021 - val_loss: 3.5159\n",
      "Epoch 15/50\n",
      "1/1 [==============================] - 0s 68ms/step - loss: 4.3947 - val_loss: 3.3685\n",
      "Epoch 16/50\n",
      "1/1 [==============================] - 0s 52ms/step - loss: 4.1298 - val_loss: 3.3124\n",
      "Epoch 17/50\n",
      "1/1 [==============================] - 0s 44ms/step - loss: 3.9304 - val_loss: 3.3974\n",
      "Epoch 18/50\n",
      "1/1 [==============================] - 0s 61ms/step - loss: 3.8670 - val_loss: 3.5983\n",
      "Epoch 19/50\n",
      "1/1 [==============================] - 0s 75ms/step - loss: 3.9344 - val_loss: 3.8302\n",
      "Epoch 20/50\n",
      "1/1 [==============================] - 0s 78ms/step - loss: 4.0647 - val_loss: 3.9945\n",
      "Epoch 21/50\n",
      "1/1 [==============================] - 0s 66ms/step - loss: 4.1705 - val_loss: 4.0283\n",
      "Epoch 22/50\n",
      "1/1 [==============================] - 0s 49ms/step - loss: 4.1932 - val_loss: 3.9296\n",
      "Epoch 23/50\n",
      "1/1 [==============================] - 0s 112ms/step - loss: 4.1278 - val_loss: 3.7482\n",
      "Epoch 24/50\n",
      "1/1 [==============================] - 0s 53ms/step - loss: 4.0153 - val_loss: 3.5549\n",
      "Epoch 25/50\n",
      "1/1 [==============================] - 0s 58ms/step - loss: 3.9142 - val_loss: 3.4078\n",
      "Epoch 26/50\n",
      "1/1 [==============================] - 0s 39ms/step - loss: 3.8679 - val_loss: 3.3309\n",
      "1/1 [==============================] - 0s 59ms/step\n"
     ]
    }
   ],
   "source": [
    "# Define the model architecture\n",
    "\n",
    "initializer = tf.keras.initializers.GlorotNormal(seed = 1)\n",
    "model = tf.keras.Sequential([\n",
    "    layers.Dense(26, input_shape=[PCA_components], activation='sigmoid', kernel_initializer= initializer),\n",
    "    layers.Dense(26, activation='sigmoid', kernel_initializer= initializer),\n",
    "    layers.Dense(1, activation = 'linear', kernel_initializer= initializer)\n",
    "])\n",
    "model.compile(\n",
    "    loss = tf.keras.losses.MeanSquaredError(),\n",
    "    optimizer = tf.keras.optimizers.Adam(learning_rate = model_learning_rate)\n",
    ")\n",
    "\n",
    "early_stopping = tf.keras.callbacks.EarlyStopping(monitor = \"val_loss\", patience = 10, restore_best_weights=True)\n",
    "\n",
    "start_time = time.time() # Measure execution time\n",
    "model.fit(x_train, y_train, epochs= N_epochs, callbacks = [early_stopping], validation_data=(x_val,y_val)) # Train the model\n",
    "\n",
    "# Calculate the execution time\n",
    "end_time = time.time()\n",
    "execution_time = end_time - start_time\n",
    "\n",
    "C_pred = model.predict(x_test, verbose = 1).reshape(-1) # Predict the scalar parameter C using the committee    \n",
    "SED_pred = CtoSEDarray(C_pred,np.zeros_like(C_pred))\n"
   ]
  },
  {
   "cell_type": "code",
   "execution_count": 20,
   "metadata": {},
   "outputs": [
    {
     "name": "stdout",
     "output_type": "stream",
     "text": [
      "MSE: 2.462505780239917\n",
      "\n",
      "F1 score: [0. 0. 0. 0. 0. 0. 0. 0. 0.]\n",
      "0.0\n",
      "0 4.247594 5\n",
      "11 4.247595 5\n",
      "4 4.24759 5\n",
      "7 4.2476025 5\n",
      "6 4.247599 5\n",
      "3 4.2475886 5\n",
      "3 4.247602 5\n",
      "4 4.2475963 5\n",
      "9 4.247593 5\n",
      "8 4.247597 5\n",
      "\n",
      "Confusion matrix:\n",
      "tf.Tensor(\n",
      "[[0 0 0 0 0 1 0 0 0 0 0 0]\n",
      " [0 0 0 0 0 0 0 0 0 0 0 0]\n",
      " [0 0 0 0 0 0 0 0 0 0 0 0]\n",
      " [0 0 0 0 0 2 0 0 0 0 0 0]\n",
      " [0 0 0 0 0 2 0 0 0 0 0 0]\n",
      " [0 0 0 0 0 0 0 0 0 0 0 0]\n",
      " [0 0 0 0 0 1 0 0 0 0 0 0]\n",
      " [0 0 0 0 0 1 0 0 0 0 0 0]\n",
      " [0 0 0 0 0 1 0 0 0 0 0 0]\n",
      " [0 0 0 0 0 1 0 0 0 0 0 0]\n",
      " [0 0 0 0 0 0 0 0 0 0 0 0]\n",
      " [0 0 0 0 0 1 0 0 0 0 0 0]], shape=(12, 12), dtype=int32)\n",
      "\n",
      "Success rate: 0.3\n",
      "Execution time: 2.293637275695801 seconds\n"
     ]
    }
   ],
   "source": [
    "# Evaluate the performance of the classifier\n",
    "\n",
    "mse = np.mean((y_test - y_pred)**2)\n",
    "print('MSE:', mse)\n",
    "\n",
    "f1 = f1_score(SED_test, SED_pred, average = None)\n",
    "print('\\nF1 score:', f1)\n",
    "print(np.mean(f1[:13]))\n",
    "\n",
    "for i in range(len(SED_test)):\n",
    "    print(SED_test[i], C_pred[i], SED_pred[i])\n",
    "\n",
    "\n",
    "confusion_matrix = tf.math.confusion_matrix(SED_test, SED_pred) \n",
    "print(\"\\nConfusion matrix:\")\n",
    "print(confusion_matrix)\n",
    "\n",
    "success_rate = calculate_success_rate(confusion_matrix)\n",
    "print('\\nSuccess rate:', success_rate)\n",
    "\n",
    "print(\"Execution time:\", execution_time, \"seconds\")\n"
   ]
  },
  {
   "cell_type": "code",
   "execution_count": 16,
   "metadata": {},
   "outputs": [
    {
     "name": "stderr",
     "output_type": "stream",
     "text": [
      "WARNING:absl:Found untraced functions such as _update_step_xla while saving (showing 1 of 1). These functions will not be directly callable after loading.\n"
     ]
    },
    {
     "name": "stdout",
     "output_type": "stream",
     "text": [
      "INFO:tensorflow:Assets written to: /Users/as274094/GitHub/Refractored_star_classifier/tensorflow_version/my_model/assets\n"
     ]
    },
    {
     "name": "stderr",
     "output_type": "stream",
     "text": [
      "INFO:tensorflow:Assets written to: /Users/as274094/GitHub/Refractored_star_classifier/tensorflow_version/my_model/assets\n"
     ]
    }
   ],
   "source": [
    "model.save('/Users/as274094/GitHub/Refractored_star_classifier/tensorflow_version/my_model/')"
   ]
  }
 ],
 "metadata": {
  "kernelspec": {
   "display_name": "psf",
   "language": "python",
   "name": "python3"
  },
  "language_info": {
   "codemirror_mode": {
    "name": "ipython",
    "version": 3
   },
   "file_extension": ".py",
   "mimetype": "text/x-python",
   "name": "python",
   "nbconvert_exporter": "python",
   "pygments_lexer": "ipython3",
   "version": "3.11.3"
  },
  "orig_nbformat": 4
 },
 "nbformat": 4,
 "nbformat_minor": 2
}
