{
 "cells": [
  {
   "cell_type": "code",
   "execution_count": 1,
   "metadata": {},
   "outputs": [],
   "source": [
    "import numpy as np"
   ]
  },
  {
   "cell_type": "code",
   "execution_count": 17,
   "metadata": {},
   "outputs": [],
   "source": [
    "#dataset_file = '/Users/as274094/Documents/psf_dataset4/train_Euclid_2000_stars_id_004GT_350_bins.npy'\n",
    "dataset_file = '/Users/as274094/Documents/psf_dataset2/test_Euclid_res_20000_TestStars_id_002GT_100_bins.npy'\n",
    "\n",
    "dataset = np.load(dataset_file, allow_pickle=True)[()]"
   ]
  },
  {
   "cell_type": "code",
   "execution_count": 22,
   "metadata": {},
   "outputs": [
    {
     "name": "stdout",
     "output_type": "stream",
     "text": [
      "15933 100 400\n"
     ]
    }
   ],
   "source": [
    "snr_cut_indexes = np.where((dataset['SNR'] >= 100))[0]\n",
    "snr_cut = dataset['SNR'][snr_cut_indexes]\n",
    "snr_max = np.round(np.max(snr_cut)).astype(int)\n",
    "snr_min = np.round(np.min(snr_cut)).astype(int)\n",
    "print(snr_cut.shape[0], snr_min, snr_max)"
   ]
  },
  {
   "cell_type": "code",
   "execution_count": 23,
   "metadata": {},
   "outputs": [],
   "source": [
    "dataset={\n",
    "    'stars': dataset['stars'][snr_cut_indexes],\n",
    "    'noisy_stars': dataset['noisy_stars'][snr_cut_indexes],\n",
    "    'super_res_stars': dataset['super_res_stars'][snr_cut_indexes],\n",
    "    'positions': dataset['positions'][snr_cut_indexes],\n",
    "    'SEDs': dataset['SEDs'][snr_cut_indexes],\n",
    "    'zernike_coef': dataset['zernike_coef'][snr_cut_indexes],\n",
    "    'C_poly': dataset['C_poly'],\n",
    "    'parameters': dataset['parameters'],\n",
    "    'SED_ids': np.array(dataset['SED_ids'])[snr_cut_indexes],\n",
    "    'SNR': dataset['SNR'][snr_cut_indexes]\n",
    "}\n",
    "\n",
    "filename_parts = dataset_file.split('.')\n",
    "new_dataset_file = f\"{filename_parts[0]}_SNR_{snr_min}_{snr_max}.npy\"\n",
    "print(new_dataset_file)\n",
    "np.save(\n",
    "        new_dataset_file,\n",
    "        dataset,\n",
    "        allow_pickle=True\n",
    "    )"
   ]
  },
  {
   "cell_type": "code",
   "execution_count": null,
   "metadata": {},
   "outputs": [],
   "source": []
  }
 ],
 "metadata": {
  "kernelspec": {
   "display_name": "psf",
   "language": "python",
   "name": "python3"
  },
  "language_info": {
   "codemirror_mode": {
    "name": "ipython",
    "version": 3
   },
   "file_extension": ".py",
   "mimetype": "text/x-python",
   "name": "python",
   "nbconvert_exporter": "python",
   "pygments_lexer": "ipython3",
   "version": "3.11.3"
  },
  "orig_nbformat": 4
 },
 "nbformat": 4,
 "nbformat_minor": 2
}
