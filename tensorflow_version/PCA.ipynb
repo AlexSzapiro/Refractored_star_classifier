{
 "cells": [
  {
   "cell_type": "code",
   "execution_count": 1,
   "metadata": {},
   "outputs": [],
   "source": [
    "import numpy as np\n",
    "from sklearn.decomposition import PCA\n",
    "from sklearn.model_selection import train_test_split"
   ]
  },
  {
   "cell_type": "code",
   "execution_count": 2,
   "metadata": {},
   "outputs": [],
   "source": [
    "# Charge the dataset \n",
    "data_path = '/Users/as274094/Documents/psf_dataset2/'\n",
    "test_dataset = np.load(data_path + 'test_Euclid_res_20000_TestStars_id_002GT_100_bins.npy', allow_pickle=True)[()]\n",
    "train_dataset = np.load(data_path + 'train_Euclid_res_52000_TrainStars_id_002GT_100_bins.npy', allow_pickle=True)[()]\n",
    "output_path = data_path #'/Users/as274094/GitHub/Refractored_star_classifier/tensorflow_version/'"
   ]
  },
  {
   "cell_type": "code",
   "execution_count": 3,
   "metadata": {},
   "outputs": [],
   "source": [
    "# Load the stars\n",
    "\n",
    "noiseless_train_stars = train_dataset['stars']\n",
    "noiseless_test_stars = test_dataset['stars']\n",
    "noisy_train_stars = train_dataset['noisy_stars']\n",
    "noisy_test_stars = test_dataset['noisy_stars']\n",
    "\n",
    "snr_50_400_indexes = np.where(test_dataset['SNR'] >= 50)[0]\n",
    "noisy_test_stars_50_400 = test_dataset['noisy_stars'][snr_50_400_indexes]\n",
    "classes_50_400 = np.array(test_dataset['SED_ids'])[snr_50_400_indexes]"
   ]
  },
  {
   "cell_type": "code",
   "execution_count": 4,
   "metadata": {},
   "outputs": [],
   "source": [
    "def perform_PCA(fit_selection, *transform_selection):\n",
    "    '''\n",
    "    Performs a 24 component PCA of 32x32 arrays, fits fit_selection, transforms a variable length tuple of sets transform_selection and returns a list of the processed sets.\n",
    "    '''\n",
    "    \n",
    "    # Create PCA object\n",
    "    pca = PCA(n_components= 24)\n",
    "    pca.fit(fit_selection.reshape(-1, 1024))\n",
    "\n",
    "    pca_processed_sets = []\n",
    "    for i in range(len(transform_selection)):\n",
    "        pca_processed_sets.append(pca.transform(transform_selection[i].reshape(-1, 1024)))\n",
    "\n",
    "    return pca_processed_sets\n",
    "\n"
   ]
  },
  {
   "attachments": {},
   "cell_type": "markdown",
   "metadata": {},
   "source": [
    "- A: fit and transform both noiseless train and test sets \n",
    "- B: fit and transform both noisy train and test sets\n",
    "- C: fit noiseless train and test sets, transform noisy train and test sets\n",
    "- D: fit and transform both noisy train and test sets with SNR >= 50\n",
    "- E: fit and transform noisy train set, fit and transform noisy test set"
   ]
  },
  {
   "cell_type": "code",
   "execution_count": 15,
   "metadata": {},
   "outputs": [],
   "source": [
    "# Dataset A\n",
    "\n",
    "fit_selection = np.concatenate((noiseless_train_stars, noiseless_test_stars), axis = 0)\n",
    "x_train, x_test = perform_PCA(fit_selection, noiseless_train_stars, noiseless_test_stars)\n"
   ]
  },
  {
   "cell_type": "code",
   "execution_count": 18,
   "metadata": {},
   "outputs": [],
   "source": [
    "# Dataset B\n",
    "\n",
    "fit_selection = np.concatenate((noisy_train_stars, noisy_test_stars), axis = 0)\n",
    "x_train, x_test = perform_PCA(fit_selection, noisy_train_stars, noisy_test_stars)"
   ]
  },
  {
   "cell_type": "code",
   "execution_count": 21,
   "metadata": {},
   "outputs": [],
   "source": [
    "# Dataset C\n",
    "\n",
    "fit_selection = np.concatenate((noiseless_train_stars, noiseless_test_stars), axis = 0)\n",
    "x_train, x_test = perform_PCA(fit_selection, noisy_train_stars, noisy_test_stars)"
   ]
  },
  {
   "cell_type": "code",
   "execution_count": 24,
   "metadata": {},
   "outputs": [],
   "source": [
    "# Dataset D\n",
    "\n",
    "fit_selection = np.concatenate((noisy_train_stars, noisy_test_stars_50_400), axis = 0)\n",
    "x_train, x_test = perform_PCA(fit_selection, noisy_train_stars, noisy_test_stars_50_400)"
   ]
  },
  {
   "cell_type": "code",
   "execution_count": 28,
   "metadata": {},
   "outputs": [],
   "source": [
    "# Dataset E\n",
    "\n",
    "x_train = perform_PCA(noisy_train_stars, noisy_train_stars)[0]\n",
    "x_test = perform_PCA(noisy_test_stars, noisy_test_stars)[0]"
   ]
  },
  {
   "cell_type": "code",
   "execution_count": 29,
   "metadata": {},
   "outputs": [],
   "source": [
    "def SEDlisttoC(SED_list):\n",
    "    sed_array = np.array(SED_list)\n",
    "    return sed_array*0.5 + 1.5\n",
    "\n",
    "y_train = SEDlisttoC(train_dataset['SED_ids'])\n",
    "x_train, x_val, y_train, y_val, sed_train, sed_val = train_test_split(x_train, y_train, train_dataset['SED_ids'],test_size = 20000, shuffle = False) # Reserve 20,000 stars for validation\n",
    "\n",
    "y_test = SEDlisttoC(test_dataset['SED_ids'])\n",
    "sed_test = test_dataset['SED_ids']"
   ]
  },
  {
   "cell_type": "code",
   "execution_count": 26,
   "metadata": {},
   "outputs": [],
   "source": [
    "y_test = np.array(SEDlisttoC(test_dataset['SED_ids']))[snr_50_400_indexes]\n",
    "sed_test = np.array(test_dataset['SED_ids'])[snr_50_400_indexes]"
   ]
  },
  {
   "cell_type": "code",
   "execution_count": 30,
   "metadata": {},
   "outputs": [],
   "source": [
    "PCA_dataset = {\n",
    "    'train_stars_pca' : x_train,\n",
    "    'validation_stars_pca' : x_val,\n",
    "    'test_stars_pca' : x_test,\n",
    "    'train_C' : y_train,\n",
    "    'validation_C' : y_val,\n",
    "    'test_C' : y_test,\n",
    "    'train_SEDs': sed_train,\n",
    "    'validation_SEDs' : sed_val,\n",
    "    'test_SEDs' : sed_test\n",
    "}\n",
    "\n",
    "np.save(\n",
    "    output_path + 'PCA_dataset2E.npy',\n",
    "    PCA_dataset,\n",
    "    allow_pickle=True\n",
    ")"
   ]
  }
 ],
 "metadata": {
  "kernelspec": {
   "display_name": "psf",
   "language": "python",
   "name": "python3"
  },
  "language_info": {
   "codemirror_mode": {
    "name": "ipython",
    "version": 3
   },
   "file_extension": ".py",
   "mimetype": "text/x-python",
   "name": "python",
   "nbconvert_exporter": "python",
   "pygments_lexer": "ipython3",
   "version": "3.11.3"
  },
  "orig_nbformat": 4
 },
 "nbformat": 4,
 "nbformat_minor": 2
}
