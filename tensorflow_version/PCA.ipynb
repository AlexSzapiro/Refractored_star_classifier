{
 "cells": [
  {
   "cell_type": "code",
   "execution_count": 1,
   "metadata": {},
   "outputs": [],
   "source": [
    "import numpy as np\n",
    "from sklearn.decomposition import PCA\n",
    "from sklearn.model_selection import train_test_split"
   ]
  },
  {
   "cell_type": "code",
   "execution_count": 3,
   "metadata": {},
   "outputs": [],
   "source": [
    "# Charge the dataset \n",
    "data_path = '/Users/as274094/Documents/psf_dataset1/'\n",
    "test_dataset = np.load(data_path + 'test_Euclid_res_20000_TestStars_id_001GT_100_bins.npy', allow_pickle=True)[()]\n",
    "train_dataset = np.load(data_path + 'train_Euclid_res_52000_TrainStars_id_001GT_100_bins.npy', allow_pickle=True)[()]\n",
    "output_path = data_path #'/Users/as274094/GitHub/Refractored_star_classifier/tensorflow_version/'"
   ]
  },
  {
   "cell_type": "code",
   "execution_count": 4,
   "metadata": {},
   "outputs": [],
   "source": [
    "def SEDlisttoC(SED_list):\n",
    "    sed_array = np.array(SED_list)\n",
    "    return sed_array*0.5 + 1.5\n",
    "\n",
    "train_stars = train_dataset['noisy_stars']\n",
    "test_stars = test_dataset['noisy_stars']\n",
    "\n",
    "y_train = SEDlisttoC(train_dataset['SED_ids'])\n",
    "y_test = SEDlisttoC(test_dataset['SED_ids'])"
   ]
  },
  {
   "cell_type": "code",
   "execution_count": 5,
   "metadata": {},
   "outputs": [],
   "source": [
    "PCA_components = 24\n",
    "# Perform PCA on all the images\n",
    "pca = PCA(n_components= PCA_components)\n",
    "train_and_test_stars = np.concatenate((train_stars, test_stars), axis = 0)\n",
    "pca.fit(train_and_test_stars.reshape(-1, 1024))\n",
    "x_train = pca.transform(train_stars.reshape(-1, 1024))\n",
    "x_test = pca.transform(test_stars.reshape(-1, 1024))\n",
    "x_train, x_val, y_train, y_val = train_test_split(x_train, y_train, test_size = 20000) # Reserve 20,000 stars for validation"
   ]
  },
  {
   "cell_type": "code",
   "execution_count": 6,
   "metadata": {},
   "outputs": [],
   "source": [
    "PCA_dataset = {\n",
    "    'train_stars_pca' : x_train,\n",
    "    'validation_stars_pca' : x_val,\n",
    "    'test_stars_pca' : x_test,\n",
    "    'train_C' : y_train,\n",
    "    'validation_C' : y_val,\n",
    "    'test_C' : y_test,\n",
    "    'test_SEDs' : test_dataset['SED_ids']\n",
    "}\n",
    "\n",
    "np.save(\n",
    "    output_path + 'PCA_dataset1_noisy.npy',\n",
    "    PCA_dataset,\n",
    "    allow_pickle=True\n",
    ")"
   ]
  }
 ],
 "metadata": {
  "kernelspec": {
   "display_name": "psf",
   "language": "python",
   "name": "python3"
  },
  "language_info": {
   "codemirror_mode": {
    "name": "ipython",
    "version": 3
   },
   "file_extension": ".py",
   "mimetype": "text/x-python",
   "name": "python",
   "nbconvert_exporter": "python",
   "pygments_lexer": "ipython3",
   "version": "3.11.3"
  },
  "orig_nbformat": 4
 },
 "nbformat": 4,
 "nbformat_minor": 2
}
