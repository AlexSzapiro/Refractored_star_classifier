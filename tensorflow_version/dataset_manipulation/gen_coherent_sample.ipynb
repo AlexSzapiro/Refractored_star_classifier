{
 "cells": [
  {
   "cell_type": "code",
   "execution_count": 1,
   "metadata": {},
   "outputs": [],
   "source": [
    "# Takes a coherent sample out of the biggest dataset \n",
    "\n",
    "import numpy as np"
   ]
  },
  {
   "cell_type": "code",
   "execution_count": 2,
   "metadata": {},
   "outputs": [],
   "source": [
    "data_folder = '/Users/as274094/Documents/psf_dataset4/'\n",
    "dataset1 = np.load(data_folder + 'train_Euclid_2000_stars_id_004GT_350_bins.npy', allow_pickle=True)[()]"
   ]
  },
  {
   "cell_type": "code",
   "execution_count": 8,
   "metadata": {},
   "outputs": [],
   "source": [
    "n_stars = 1500\n",
    "\n",
    "dataset_sample = {\n",
    "    'stars': dataset1['stars'][:n_stars],\n",
    "    'noisy_stars': dataset1['noisy_stars'][:n_stars],\n",
    "    'super_res_stars': dataset1['super_res_stars'][:n_stars],\n",
    "    'positions': dataset1['positions'][:n_stars],\n",
    "    'SEDs': dataset1['SEDs'][:n_stars],\n",
    "    'zernike_coef': dataset1['zernike_coef'][:n_stars],\n",
    "    'C_poly': dataset1['C_poly'],\n",
    "    'parameters': dataset1['parameters'],\n",
    "    'SED_ids': dataset1['SED_ids'][:n_stars],\n",
    "    'SNR': dataset1['SNR'][:n_stars]\n",
    "}\n",
    "np.save(\n",
    "        data_folder + 'train_Euclid_'+ str(n_stars) +'_stars_id_004GT_350_bins.npy',\n",
    "        dataset_sample,\n",
    "        allow_pickle=True\n",
    "    )"
   ]
  }
 ],
 "metadata": {
  "kernelspec": {
   "display_name": "psf",
   "language": "python",
   "name": "python3"
  },
  "language_info": {
   "codemirror_mode": {
    "name": "ipython",
    "version": 3
   },
   "file_extension": ".py",
   "mimetype": "text/x-python",
   "name": "python",
   "nbconvert_exporter": "python",
   "pygments_lexer": "ipython3",
   "version": "3.11.3"
  },
  "orig_nbformat": 4
 },
 "nbformat": 4,
 "nbformat_minor": 2
}
