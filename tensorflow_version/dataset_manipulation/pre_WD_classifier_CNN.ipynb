{
 "cells": [
  {
   "cell_type": "code",
   "execution_count": 1,
   "metadata": {},
   "outputs": [
    {
     "name": "stderr",
     "output_type": "stream",
     "text": [
      "2023-07-25 16:27:50.798713: I tensorflow/core/platform/cpu_feature_guard.cc:182] This TensorFlow binary is optimized to use available CPU instructions in performance-critical operations.\n",
      "To enable the following instructions: AVX2 FMA, in other operations, rebuild TensorFlow with the appropriate compiler flags.\n"
     ]
    }
   ],
   "source": [
    "# Script that receives an unclassified PSF dataset and returns the dataset with the according SEDs assigned by a CNN classifier\n",
    "\n",
    "import numpy as np\n",
    "import tensorflow as tf\n",
    "import sklearn.metrics as skm"
   ]
  },
  {
   "cell_type": "code",
   "execution_count": 5,
   "metadata": {},
   "outputs": [],
   "source": [
    "# Load datasets\n",
    "dataset_path = '/Users/as274094/Documents/psf_dataset4/'\n",
    "dataset_name = 'train_Euclid_2000_stars_id_004GT_350_bins.npy'\n",
    "dataset_1 = np.load(dataset_path + dataset_name, allow_pickle=True)[()] # The dataset to classify\n",
    "\n",
    "x_to_convert = np.expand_dims(dataset_1['noisy_stars'], axis = 3)"
   ]
  },
  {
   "cell_type": "code",
   "execution_count": 3,
   "metadata": {},
   "outputs": [],
   "source": [
    "# Load model\n",
    "\n",
    "model_path = '/Users/as274094/GitHub/Refractored_star_classifier/tensorflow_version/best_models/CNN_model/'\n",
    "classifier = tf.keras.models.load_model(model_path)\n",
    "    \n",
    "def calculate_success_rate(confusion_matrix):\n",
    "    diagonal = np.trace(confusion_matrix)\n",
    "    diagonal_neighbors = np.sum(np.diagonal(confusion_matrix, offset=1)) + np.sum(np.diagonal(confusion_matrix, offset=-1))\n",
    "    total_classified = np.sum(confusion_matrix)\n",
    "    \n",
    "    success_rate = (diagonal + diagonal_neighbors) / total_classified\n",
    "    return success_rate\n"
   ]
  },
  {
   "cell_type": "code",
   "execution_count": 6,
   "metadata": {},
   "outputs": [
    {
     "name": "stdout",
     "output_type": "stream",
     "text": [
      "63/63 [==============================] - 1s 8ms/step\n",
      "Average F1 score: 0.6803504313288968\n",
      "\n",
      "Confusion matrix:\n",
      "[[ 93  46   4   0   0   0   0   0   0   0   0   0   0]\n",
      " [ 64  93  15   0   1   0   0   0   0   0   0   0   0]\n",
      " [  2   9  94  37   6   0   0   0   0   0   0   0   0]\n",
      " [  0   2  47  72  24   1   0   0   0   0   0   0   0]\n",
      " [  0   0   2  14 114  15   0   0   0   0   0   0   0]\n",
      " [  0   0   0   0  23 109  35   1   0   0   0   0   0]\n",
      " [  0   0   0   0   4  29 105  12   0   0   0   0   0]\n",
      " [  0   0   0   0   1   0  25  87  24  12   0   0   0]\n",
      " [  0   0   0   0   0   0   3  73  46  38   0   0   0]\n",
      " [  0   0   0   0   0   0   0  18  36  92   1   0   0]\n",
      " [  0   0   0   0   0   0   0   0   0   4 148   1   0]\n",
      " [  0   0   0   0   0   0   0   0   0   0   1 170   0]\n",
      " [  0   0   0   0   0   0   0   0   0   0   0   0 147]]\n",
      "\n",
      "Success rate: 0.9715\n"
     ]
    }
   ],
   "source": [
    "# Make predictions and calculate metrics\n",
    "\n",
    "y_test_pred = classifier.predict(x_to_convert, verbose = 1)\n",
    "class_predictions = np.argmax(y_test_pred, axis = 1)\n",
    "\n",
    "f1_mean = np.mean(skm.f1_score(dataset_1['SED_ids'], class_predictions, average = None)[:13])\n",
    "print('Average F1 score:', f1_mean)\n",
    "\n",
    "confusion_matrix = skm.confusion_matrix(dataset_1['SED_ids'], class_predictions)\n",
    "print(\"\\nConfusion matrix:\")\n",
    "print(confusion_matrix)\n",
    "\n",
    "success_rate = calculate_success_rate(confusion_matrix)\n",
    "print('\\nSuccess rate:', success_rate)"
   ]
  },
  {
   "cell_type": "code",
   "execution_count": 8,
   "metadata": {},
   "outputs": [],
   "source": [
    "# Assign SEDs\n",
    "concatenated_SEDs = np.load('concatenated_SEDs.npy', allow_pickle=True)[()]\n",
    "\n",
    "SED_list = []\n",
    "for spectral_class in class_predictions:\n",
    "    concat_SED = concatenated_SEDs[spectral_class]\n",
    "    SED_list.append(concat_SED)\n",
    "SED_array = np.array(SED_list, dtype=object)"
   ]
  },
  {
   "cell_type": "code",
   "execution_count": 11,
   "metadata": {},
   "outputs": [],
   "source": [
    "# Save the new dataset\n",
    "\n",
    "dataset_1['SEDs'] = SED_array \n",
    "dataset_1['SED_ids'] = class_predictions\n",
    "dataset_1['F1'] = f1_mean\n",
    "dataset_1['success_rate'] = success_rate\n",
    "\n",
    "np.save(\n",
    "        dataset_path + 'assigned_CNN_' + dataset_name,\n",
    "        dataset_1,\n",
    "        allow_pickle=True\n",
    "    )"
   ]
  },
  {
   "cell_type": "code",
   "execution_count": 13,
   "metadata": {},
   "outputs": [
    {
     "name": "stdout",
     "output_type": "stream",
     "text": [
      "0.6803504313288968 0.9715\n"
     ]
    }
   ],
   "source": [
    "# Verification\n",
    "\n",
    "assigned_dataset = np.load('/Users/as274094/Documents/psf_dataset4/assigned_CNN_train_Euclid_2000_stars_id_004GT_350_bins.npy', allow_pickle=True)[()]\n",
    "print(assigned_dataset['F1'],assigned_dataset['success_rate'])"
   ]
  }
 ],
 "metadata": {
  "kernelspec": {
   "display_name": "psf",
   "language": "python",
   "name": "python3"
  },
  "language_info": {
   "codemirror_mode": {
    "name": "ipython",
    "version": 3
   },
   "file_extension": ".py",
   "mimetype": "text/x-python",
   "name": "python",
   "nbconvert_exporter": "python",
   "pygments_lexer": "ipython3",
   "version": "3.11.3"
  },
  "orig_nbformat": 4
 },
 "nbformat": 4,
 "nbformat_minor": 2
}
